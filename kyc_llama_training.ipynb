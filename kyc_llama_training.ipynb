{
 "cells": [
  {
   "cell_type": "markdown",
   "metadata": {},
   "source": [
    "# KYC Risk Classification using LLaMA Model\n",
    "This notebook fine-tunes a LLaMA model on KYC data and uploads it to Hugging Face Hub. You can then use the model for classification tasks in workflows like Airflow."
   ]
  },
  {
   "cell_type": "code",
   "execution_count": null,
   "metadata": {},
   "outputs": [],
   "source": [
    "# Install necessary libraries\n",
    "!pip install transformers datasets scikit-learn torch huggingface-hub beautifulsoup4 requests"
   ]
  },
  {
   "cell_type": "markdown",
   "metadata": {},
   "source": [
    "## Step 1: Load the Dataset and Prepare Training Data"
   ]
  },
  {
   "cell_type": "code",
   "execution_count": null,
   "metadata": {},
   "outputs": [],
   "source": [
    "from transformers import LlamaForSequenceClassification, LlamaTokenizer, Trainer, TrainingArguments\n",
    "from sklearn.model_selection import train_test_split\n",
    "from datasets import Dataset\n",
    "import pandas as pd\n",
    "from huggingface_hub import HfApi, upload_folder\n",
    "\n",
    "# Sample data\n",
    "data = {\n",
    "    \"text\": [\n",
    "        \"ABC Corp is a business in the healthcare sector. No issues detected.\",\n",
    "        \"XYZ Inc operates in the cannabis sector with past lawsuits.\",\n",
    "        \"DEF Corp in the insurance sector, low income, low credit score.\"\n",
    "    ],\n",
    "    \"label\": [\"Approved\", \"Rejected\", \"Review Required\"]\n",
    "}\n",
    "df = pd.DataFrame(data)\n",
    "\n",
    "# Encode labels\n",
    "label_map = {'Approved': 0, 'Review Required': 1, 'Rejected': 2}\n",
    "df['label'] = df['label'].map(label_map)\n",
    "\n",
    "# Split data\n",
    "train_texts, val_texts, train_labels, val_labels = train_test_split(\n",
    "    df['text'].tolist(), df['label'].tolist(), test_size=0.2, random_state=42\n",
    ")\n",
    "\n",
    "# Tokenize input\n",
    "tokenizer = LlamaTokenizer.from_pretrained('meta-llama/Llama-3-7b')\n",
    "train_encodings = tokenizer(train_texts, truncation=True, padding=True, max_length=512)\n",
    "val_encodings = tokenizer(val_texts, truncation=True, padding=True, max_length=512)\n",
    "\n",
    "train_dataset = Dataset.from_dict({'input_ids': train_encodings['input_ids'], 'labels': train_labels})\n",
    "val_dataset = Dataset.from_dict({'input_ids': val_encodings['input_ids'], 'labels': val_labels})"
   ]
  },
  {
   "cell_type": "markdown",
   "metadata": {},
   "source": [
    "## Step 2: Fine-Tuning LLaMA Model"
   ]
  },
  {
   "cell_type": "code",
   "execution_count": null,
   "metadata": {},
   "outputs": [],
   "source": [
    "model = LlamaForSequenceClassification.from_pretrained('meta-llama/Llama-3-7b', num_labels=3)\n",
    "\n",
    "training_args = TrainingArguments(\n",
    "    output_dir=\"./llama_kyc_model\",\n",
    "    evaluation_strategy=\"epoch\",\n",
    "    learning_rate=2e-5,\n",
    "    per_device_train_batch_size=8,\n",
    "    num_train_epochs=3,\n",
    "    weight_decay=0.01,\n",
    ")\n",
    "\n",
    "trainer = Trainer(\n",
    "    model=model,\n",
    "    args=training_args,\n",
    "    train_dataset=train_dataset,\n",
    "    eval_dataset=val_dataset,\n",
    ")\n",
    "\n",
    "trainer.train()"
   ]
  },
  {
   "cell_type": "markdown",
   "metadata": {},
   "source": [
    "## Step 3: Save and Upload the Model to Hugging Face"
   ]
  },
  {
   "cell_type": "code",
   "execution_count": null,
   "metadata": {},
   "outputs": [],
   "source": [
    "# Save locally\n",
    "model.save_pretrained('./llama_kyc_model')\n",
    "tokenizer.save_pretrained('./llama_kyc_model')\n",
    "\n",
    "# Upload to Hugging Face\n",
    "api = HfApi()\n",
    "api.create_repo(repo_id=\"your-huggingface-username/llama-kyc-classifier\", private=False)\n",
    "upload_folder(repo_id=\"your-huggingface-username/llama-kyc-classifier\", folder_path=\"./llama_kyc_model\")\n",
    "\n",
    "print(\"Model uploaded successfully!\")"
   ]
  }
 ],
 "metadata": {
  "colab": {
   "name": "kyc_llama_training.ipynb",
   "provenance": []
  },
  "kernelspec": {
   "display_name": "Python 3",
   "language": "python",
   "name": "python3"
  },
  "language_info": {
   "file_extension": ".py",
   "mimetype": "text/x-python",
   "name": "python",
   "version": "3.7.15"
  }
 },
 "nbformat": 4,
 "nbformat_minor": 0
}
